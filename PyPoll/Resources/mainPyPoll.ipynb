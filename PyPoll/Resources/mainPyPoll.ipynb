{
 "cells": [
  {
   "cell_type": "code",
   "execution_count": 85,
   "metadata": {},
   "outputs": [],
   "source": [
    "# You will be given a set of poll data called election_data.csv. \n",
    "#The dataset is composed of three columns: \"Voter ID\", \"County\", and \"Candidate\". \n",
    "#Your task is to create a Python script that analyzes the votes and calculates each of the following values:\n",
    "    # The total number of votes cast\n",
    "    # A complete list of candidates who received votes\n",
    "    # The percentage of votes each candidate won\n",
    "    # The total number of votes each candidate won\n",
    "    # The winner of the election based on popular vote"
   ]
  },
  {
   "cell_type": "code",
   "execution_count": 86,
   "metadata": {},
   "outputs": [],
   "source": [
    "import os\n",
    "# Module for reading CSV files\n",
    "import csv\n",
    "from pathlib import Path "
   ]
  },
  {
   "cell_type": "code",
   "execution_count": 87,
   "metadata": {},
   "outputs": [],
   "source": [
    "csvpath = os.path.join('..', 'Resources', 'election_data.csv')"
   ]
  },
  {
   "cell_type": "code",
   "execution_count": 88,
   "metadata": {},
   "outputs": [],
   "source": [
    "#elec_data = []"
   ]
  },
  {
   "cell_type": "code",
   "execution_count": 89,
   "metadata": {},
   "outputs": [
    {
     "name": "stdout",
     "output_type": "stream",
     "text": [
      "<_csv.reader object at 0x000001BF31D1EFE0>\n",
      "CSV Header: ['Ballot ID', 'County', 'Candidate']\n"
     ]
    }
   ],
   "source": [
    "#Reading using CSV module\n",
    "\n",
    "with open(csvpath) as file:\n",
    "    # CSV reader specifies delimiter and variable that holds contents\n",
    "    csvreader = csv.reader(file)\n",
    "    print(csvreader)\n",
    "\n",
    "    # Read the header row first (skip this step if there is no header)\n",
    "    csv_header = next(csvreader)\n",
    "    print(f\"CSV Header: {csv_header}\")\n",
    "    \n",
    "    #initial vote count\n",
    "    ccs_votes = 0\n",
    "    dg_votes = 0\n",
    "    rad_votes = 0\n",
    "    #initial count, subtracting the header row\n",
    "    tot_votes = -1\n",
    "    # Read each row of data after the header\n",
    "    for row in csvreader:\n",
    "        #print(row)\n",
    "        #create dictionary\n",
    "        #elec_data.append({\"Candidate\": row[2]}) .... dont need dictionary\n",
    "        \n",
    "        #tot_votes += 1\n",
    "\n",
    "        if row[2] == \"Charles Casper Stockham\":\n",
    "            ccs_votes += 1\n",
    "        elif row[2] == \"Diana DeGette\":\n",
    "            dg_votes += 1\n",
    "        elif row[2] == \"Raymon Anthony Doane\":\n",
    "            rad_votes += 1\n"
   ]
  },
  {
   "cell_type": "code",
   "execution_count": 90,
   "metadata": {},
   "outputs": [
    {
     "data": {
      "text/plain": [
       "{'Charles Casper Stockham': 85213,\n",
       " 'Diana DeGette': 272892,\n",
       " 'Raymon Anthony Doane': 11606}"
      ]
     },
     "execution_count": 90,
     "metadata": {},
     "output_type": "execute_result"
    }
   ],
   "source": [
    "can_count = {\"Charles Casper Stockham\":ccs_votes, \"Diana DeGette\": dg_votes, \"Raymon Anthony Doane\": rad_votes}\n",
    "can_count"
   ]
  },
  {
   "cell_type": "code",
   "execution_count": 91,
   "metadata": {},
   "outputs": [],
   "source": [
    "ccs_per = (ccs_votes / tot_votes)*100\n",
    "dg_per = (dg_votes / tot_votes)*100\n",
    "rad_per = (rad_votes / tot_votes)*100"
   ]
  }
 ],
 "metadata": {
  "kernelspec": {
   "display_name": "base",
   "language": "python",
   "name": "python3"
  },
  "language_info": {
   "codemirror_mode": {
    "name": "ipython",
    "version": 3
   },
   "file_extension": ".py",
   "mimetype": "text/x-python",
   "name": "python",
   "nbconvert_exporter": "python",
   "pygments_lexer": "ipython3",
   "version": "3.11.5"
  }
 },
 "nbformat": 4,
 "nbformat_minor": 2
}
