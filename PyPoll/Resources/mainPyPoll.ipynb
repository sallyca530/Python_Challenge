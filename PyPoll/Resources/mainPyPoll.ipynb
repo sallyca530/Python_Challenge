{
 "cells": [
  {
   "cell_type": "code",
   "execution_count": null,
   "metadata": {},
   "outputs": [],
   "source": [
    "# You will be given a set of poll data called election_data.csv. \n",
    "#The dataset is composed of three columns: \"Voter ID\", \"County\", and \"Candidate\". \n",
    "#Your task is to create a Python script that analyzes the votes and calculates each of the following values:\n",
    "    # The total number of votes cast\n",
    "    # A complete list of candidates who received votes\n",
    "    # The percentage of votes each candidate won\n",
    "    # The total number of votes each candidate won\n",
    "    # The winner of the election based on popular vote"
   ]
  },
  {
   "cell_type": "code",
   "execution_count": null,
   "metadata": {},
   "outputs": [],
   "source": []
  }
 ],
 "metadata": {
  "language_info": {
   "name": "python"
  }
 },
 "nbformat": 4,
 "nbformat_minor": 2
}
