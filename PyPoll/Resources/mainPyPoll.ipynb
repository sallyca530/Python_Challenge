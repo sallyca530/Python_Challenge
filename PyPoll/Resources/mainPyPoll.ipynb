{
 "cells": [
  {
   "cell_type": "code",
   "execution_count": 249,
   "metadata": {},
   "outputs": [],
   "source": [
    "# You will be given a set of poll data called election_data.csv. \n",
    "#The dataset is composed of three columns: \"Voter ID\", \"County\", and \"Candidate\". \n",
    "#Your task is to create a Python script that analyzes the votes and calculates each of the following values:\n",
    "    # The total number of votes cast\n",
    "    # A complete list of candidates who received votes\n",
    "    # The percentage of votes each candidate won\n",
    "    # The total number of votes each candidate won\n",
    "    # The winner of the election based on popular vote"
   ]
  },
  {
   "cell_type": "code",
   "execution_count": 250,
   "metadata": {},
   "outputs": [],
   "source": [
    "import os\n",
    "# Module for reading CSV files\n",
    "import csv\n",
    "from pathlib import Path "
   ]
  },
  {
   "cell_type": "code",
   "execution_count": 251,
   "metadata": {},
   "outputs": [],
   "source": [
    "csvpath = os.path.join('..', 'Resources', 'election_data.csv')"
   ]
  },
  {
   "cell_type": "code",
   "execution_count": 252,
   "metadata": {},
   "outputs": [],
   "source": [
    "#elec_data = []"
   ]
  },
  {
   "cell_type": "code",
   "execution_count": 253,
   "metadata": {},
   "outputs": [
    {
     "name": "stdout",
     "output_type": "stream",
     "text": [
      "<_csv.reader object at 0x000001BF3D85FD00>\n",
      "CSV Header: ['Ballot ID', 'County', 'Candidate']\n"
     ]
    }
   ],
   "source": [
    "#Reading using CSV module\n",
    "\n",
    "with open(csvpath) as file:\n",
    "    # CSV reader specifies delimiter and variable that holds contents\n",
    "    csvreader = csv.reader(file)\n",
    "    print(csvreader)\n",
    "\n",
    "    # Read the header row first (skip this step if there is no header)\n",
    "    csv_header = next(csvreader)\n",
    "    print(f\"CSV Header: {csv_header}\")\n",
    "    \n",
    "    #initial vote count\n",
    "    ccs_votes = 0\n",
    "    dg_votes = 0\n",
    "    rad_votes = 0\n",
    "    tot_votes = 0\n",
    "    # Read each row of data after the header\n",
    "    for row in csvreader:\n",
    "        #print(row)\n",
    "        #create dictionary\n",
    "        #elec_data.append({\"Candidate\": row[2]}) ...not needed\n",
    "        \n",
    "        tot_votes += 1\n",
    "        #canditate counter\n",
    "        if row[2] == \"Charles Casper Stockham\":\n",
    "            ccs_votes += 1\n",
    "        elif row[2] == \"Diana DeGette\":\n",
    "            dg_votes += 1\n",
    "        elif row[2] == \"Raymon Anthony Doane\":\n",
    "            rad_votes += 1\n",
    "#tot_votes = len(elec_data)"
   ]
  },
  {
   "cell_type": "code",
   "execution_count": 254,
   "metadata": {},
   "outputs": [
    {
     "data": {
      "text/plain": [
       "369711"
      ]
     },
     "execution_count": 254,
     "metadata": {},
     "output_type": "execute_result"
    }
   ],
   "source": [
    "tot_votes "
   ]
  },
  {
   "cell_type": "code",
   "execution_count": 255,
   "metadata": {},
   "outputs": [
    {
     "data": {
      "text/plain": [
       "{'Charles Casper Stockham': 85213,\n",
       " 'Diana DeGette': 272892,\n",
       " 'Raymon Anthony Doane': 11606}"
      ]
     },
     "execution_count": 255,
     "metadata": {},
     "output_type": "execute_result"
    }
   ],
   "source": [
    "#count dictionary\n",
    "can_count = {\"Charles Casper Stockham\": ccs_votes, \"Diana DeGette\": dg_votes, \"Raymon Anthony Doane\": rad_votes}\n",
    "can_count"
   ]
  },
  {
   "cell_type": "code",
   "execution_count": 256,
   "metadata": {},
   "outputs": [],
   "source": [
    "ccs_per = round((ccs_votes / tot_votes) * 100, 3)\n",
    "dg_per = round((dg_votes / tot_votes) * 100, 3)\n",
    "rad_per = round((rad_votes / tot_votes) * 100, 3)"
   ]
  },
  {
   "cell_type": "code",
   "execution_count": 257,
   "metadata": {},
   "outputs": [
    {
     "name": "stdout",
     "output_type": "stream",
     "text": [
      "23.049\n",
      "73.812\n",
      "3.139\n"
     ]
    }
   ],
   "source": [
    "print(ccs_per)\n",
    "print(dg_per)\n",
    "print(rad_per)"
   ]
  },
  {
   "cell_type": "code",
   "execution_count": 262,
   "metadata": {},
   "outputs": [
    {
     "data": {
      "text/plain": [
       "'Diana DeGette'"
      ]
     },
     "execution_count": 262,
     "metadata": {},
     "output_type": "execute_result"
    }
   ],
   "source": [
    "#Declare winner with max() function\n",
    "Winner = max(can_count, key=can_count.get)\n",
    "Winner"
   ]
  },
  {
   "cell_type": "code",
   "execution_count": 274,
   "metadata": {},
   "outputs": [
    {
     "name": "stdout",
     "output_type": "stream",
     "text": [
      "Election Results\n",
      "\n",
      "-------------------------------\n",
      "\n",
      "Total Votes: 369711\n",
      "\n",
      "-------------------------------\n",
      "\n",
      "Charles Casper Stockham: 23.049% (85213)\n",
      "Diana DeGette: 73.812% (272892)\n",
      "Raymon Anthony Doane: 3.139% (11606)\n",
      "\n",
      "-------------------------------\n",
      "\n",
      "Winner: Diana DeGette\n",
      "\n",
      "-------------------------------\n",
      "\n"
     ]
    }
   ],
   "source": [
    "#print election summary statements\n",
    "print(\"Election Results\")\n",
    "print(                               )\n",
    "print(\"-------------------------------\")\n",
    "print(                               )\n",
    "print(f'Total Votes: {tot_votes}')\n",
    "print(                               )\n",
    "print(\"-------------------------------\")\n",
    "print(                               )\n",
    "print(f'Charles Casper Stockham: {ccs_per}% ({ccs_votes})')\n",
    "print(f'Diana DeGette: {dg_per}% ({dg_votes})')\n",
    "print(f'Raymon Anthony Doane: {rad_per}% ({rad_votes})')\n",
    "print(                               )\n",
    "print(\"-------------------------------\")\n",
    "print(                               )\n",
    "print(f'Winner: {Winner}')\n",
    "print(                               )\n",
    "print(\"-------------------------------\")\n",
    "print(                               )\n"
   ]
  },
  {
   "cell_type": "code",
   "execution_count": 275,
   "metadata": {},
   "outputs": [],
   "source": [
    "#write file of Election Summary\n",
    "output_path = os.path.join(\"..\", \"Output\", \"Election_Data_Summary.txt\")"
   ]
  },
  {
   "cell_type": "code",
   "execution_count": 276,
   "metadata": {},
   "outputs": [
    {
     "name": "stdout",
     "output_type": "stream",
     "text": [
      "-------------------------------\n"
     ]
    }
   ],
   "source": [
    "# Open the file using \"write\" mode. Specify the variable to hold the contents\n",
    "with open(output_path, 'w') as text_file:\n",
    "\n",
    "    # Write document\n",
    "    print(\"Election Results\", file=text_file)\n",
    "    print(\"                  \", file=text_file)\n",
    "    print(\"-------------------------------\")\n",
    "    print(\"                  \", file=text_file)\n",
    "    print(f'Total Votes: {tot_votes}', file=text_file)\n",
    "    print(\"                  \", file=text_file)\n",
    "    print(\"-------------------------------\", file=text_file)\n",
    "    print(\"                  \", file=text_file)\n",
    "    print(f'Charles Casper Stockham: {ccs_per}% ({ccs_votes})', file=text_file)\n",
    "    print(f'Diana DeGette: {dg_per}% ({dg_votes})', file=text_file)\n",
    "    print(f'Raymon Anthony Doane: {rad_per}% ({rad_votes})', file=text_file)\n",
    "    print(\"                  \", file=text_file)\n",
    "    print(\"-------------------------------\", file=text_file)\n",
    "    print(\"                  \", file=text_file)\n",
    "    print(f'Winner: {Winner}', file=text_file)\n",
    "    print(\"                  \", file=text_file)\n",
    "    print(\"-------------------------------\", file=text_file)\n",
    "    print(\"                  \", file=text_file)"
   ]
  }
 ],
 "metadata": {
  "kernelspec": {
   "display_name": "base",
   "language": "python",
   "name": "python3"
  },
  "language_info": {
   "codemirror_mode": {
    "name": "ipython",
    "version": 3
   },
   "file_extension": ".py",
   "mimetype": "text/x-python",
   "name": "python",
   "nbconvert_exporter": "python",
   "pygments_lexer": "ipython3",
   "version": "3.11.5"
  }
 },
 "nbformat": 4,
 "nbformat_minor": 2
}
