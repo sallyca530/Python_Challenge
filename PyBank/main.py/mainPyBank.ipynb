{
 "cells": [
  {
   "cell_type": "code",
   "execution_count": 1,
   "metadata": {},
   "outputs": [],
   "source": [
    "# In this Challenge, you are tasked with creating a Python script to analyze the financial records of your company. \n",
    "# You will be given a financial dataset called budget_data.csv. The dataset is composed of two columns: \"Date\" and \"Profit/Losses\".\n",
    "\n",
    "# Your task is to create a Python script that analyzes the records to calculate each of the following values:\n",
    "#     The total number of months included in the dataset\n",
    "#     The net total amount of \"Profit/Losses\" over the entire period\n",
    "#     The changes in \"Profit/Losses\" over the entire period, and then the average of those changes\n",
    "#     The greatest increase in profits (date and amount) over the entire period\n",
    "#     The greatest decrease in profits (date and amount) over the entire period"
   ]
  },
  {
   "cell_type": "code",
   "execution_count": 2,
   "metadata": {},
   "outputs": [],
   "source": [
    "# First we'll import the os module\n",
    "# This will allow us to create file paths across operating systems\n",
    "import os\n",
    "# Module for reading CSV files\n",
    "import csv\n",
    "from pathlib import Path "
   ]
  },
  {
   "cell_type": "code",
   "execution_count": 3,
   "metadata": {},
   "outputs": [
    {
     "name": "stdout",
     "output_type": "stream",
     "text": [
      "Path exists\n"
     ]
    }
   ],
   "source": [
    "#verifying path exists\n",
    "path = \"../Resources/budget_data.csv\"\n",
    "if os.path.exists(path):\n",
    "    print(\"Path exists\")\n",
    "else:\n",
    "    print(\"Path does not exist\")"
   ]
  },
  {
   "cell_type": "code",
   "execution_count": 4,
   "metadata": {},
   "outputs": [
    {
     "name": "stdout",
     "output_type": "stream",
     "text": [
      " Volume in drive C is OS\n",
      " Volume Serial Number is E08B-CB24\n",
      "\n",
      " Directory of c:\\Users\\David Rios\\Desktop\\Homework\\Python_Challenge\\PyBank\\main.py\n",
      "\n",
      "10/17/2023  06:00 PM    <DIR>          .\n",
      "10/17/2023  06:00 PM    <DIR>          ..\n",
      "10/18/2023  01:26 PM             9,618 mainPyBank.ipynb\n",
      "10/17/2023  06:00 PM                 0 test.py\n",
      "               2 File(s)          9,618 bytes\n",
      "               2 Dir(s)  838,059,212,800 bytes free\n"
     ]
    }
   ],
   "source": [
    "! dir"
   ]
  },
  {
   "cell_type": "code",
   "execution_count": 5,
   "metadata": {},
   "outputs": [],
   "source": [
    "csvpath = os.path.join('..', 'Resources', 'budget_data.csv')"
   ]
  },
  {
   "cell_type": "code",
   "execution_count": 6,
   "metadata": {},
   "outputs": [],
   "source": [
    "fin_data = []"
   ]
  },
  {
   "cell_type": "code",
   "execution_count": 7,
   "metadata": {},
   "outputs": [
    {
     "name": "stdout",
     "output_type": "stream",
     "text": [
      "<_csv.reader object at 0x000001A08BC61300>\n",
      "CSV Header: ['Date', 'Profit/Losses']\n"
     ]
    }
   ],
   "source": [
    "#Reading using CSV module\n",
    "\n",
    "with open(csvpath) as file:\n",
    "    # CSV reader specifies delimiter and variable that holds contents\n",
    "    csvreader = csv.reader(file)\n",
    "    print(csvreader)\n",
    "\n",
    "    # Read the header row first (skip this step if there is no header)\n",
    "    csv_header = next(csvreader)\n",
    "    print(f\"CSV Header: {csv_header}\")\n",
    "\n",
    "    # Read each row of data after the header\n",
    "    for row in csvreader:\n",
    "        #print(row)\n",
    "        #create dictionary\n",
    "        fin_data.append({\"month\": row[0], \"Profit/Losses\": int(row[1]), \"Changes\": 0})\n",
    "\n"
   ]
  },
  {
   "cell_type": "code",
   "execution_count": 8,
   "metadata": {},
   "outputs": [
    {
     "data": {
      "text/plain": [
       "86"
      ]
     },
     "execution_count": 8,
     "metadata": {},
     "output_type": "execute_result"
    }
   ],
   "source": [
    "total_months = len(fin_data)\n",
    "total_months"
   ]
  },
  {
   "cell_type": "code",
   "execution_count": 9,
   "metadata": {},
   "outputs": [],
   "source": [
    "prev_amount = fin_data[0][\"Profit/Losses\"]\n",
    "for i in range(total_months):\n",
    "    fin_data[i][\"Changes\"] = fin_data[i][\"Profit/Losses\"] - prev_amount\n",
    "    prev_amount = fin_data[i][\"Profit/Losses\"]"
   ]
  },
  {
   "cell_type": "code",
   "execution_count": 10,
   "metadata": {},
   "outputs": [
    {
     "data": {
      "text/plain": [
       "22564198"
      ]
     },
     "execution_count": 10,
     "metadata": {},
     "output_type": "execute_result"
    }
   ],
   "source": [
    "net_prof_loss = sum(row[\"Profit/Losses\"] for row in fin_data)\n",
    "net_prof_loss"
   ]
  },
  {
   "cell_type": "code",
   "execution_count": 11,
   "metadata": {},
   "outputs": [
    {
     "data": {
      "text/plain": [
       "-706444"
      ]
     },
     "execution_count": 11,
     "metadata": {},
     "output_type": "execute_result"
    }
   ],
   "source": [
    "net_change = sum(row[\"Changes\"] for row in fin_data)\n",
    "net_change "
   ]
  },
  {
   "cell_type": "code",
   "execution_count": 12,
   "metadata": {},
   "outputs": [
    {
     "data": {
      "text/plain": [
       "-8311.105882352942"
      ]
     },
     "execution_count": 12,
     "metadata": {},
     "output_type": "execute_result"
    }
   ],
   "source": [
    "avg_change = net_change/ (total_months-1)\n",
    "avg_change"
   ]
  },
  {
   "cell_type": "code",
   "execution_count": 13,
   "metadata": {},
   "outputs": [],
   "source": [
    "# did not work for print statements, greatest_increase = max(row[\"Changes\"] for row in fin_data)\n",
    "# introduced to lamba function\n",
    "greatest_increase = max(fin_data, key=lambda x: x[\"Changes\"])"
   ]
  },
  {
   "cell_type": "code",
   "execution_count": 14,
   "metadata": {},
   "outputs": [],
   "source": [
    "# did not work for print statements, greatest_decrease = min(row[\"Changes\"] for row in fin_data)\n",
    "# introduced to lamba function\n",
    "greatest_decrease = min(fin_data, key=lambda x: x[\"Changes\"])"
   ]
  },
  {
   "cell_type": "code",
   "execution_count": 15,
   "metadata": {},
   "outputs": [
    {
     "name": "stdout",
     "output_type": "stream",
     "text": [
      "Financial Analysis\n",
      "\n",
      "-------------------------------\n",
      "\n",
      "Total Months: 86\n",
      "\n",
      "Total: $22564198\n",
      "\n",
      "Average Change: $-8311.11\n",
      "\n",
      "Greatest Increase in Profits: Aug-16 ($1862002)\n",
      "\n",
      "Greatest Decrease in Profits: Feb-14 ($-1825558)\n"
     ]
    }
   ],
   "source": [
    "#print financial summary statement\n",
    "print(\"Financial Analysis\")\n",
    "print(                               )\n",
    "print(\"-------------------------------\")\n",
    "print(                               )\n",
    "print(f'Total Months: {total_months}')\n",
    "print(                               )\n",
    "print(f'Total: ${net_prof_loss}')\n",
    "print(                               )\n",
    "print(f'Average Change: ${round(avg_change,2)}')\n",
    "print(                               )\n",
    "print(f'Greatest Increase in Profits: {greatest_increase[\"month\"]} (${greatest_increase[\"Changes\"]})')\n",
    "print(                               )\n",
    "print(f'Greatest Decrease in Profits: {greatest_decrease[\"month\"]} (${greatest_decrease[\"Changes\"]})')\n"
   ]
  },
  {
   "cell_type": "code",
   "execution_count": 16,
   "metadata": {},
   "outputs": [],
   "source": [
    "#write file of Financial Summary\n",
    "output_path = os.path.join(\"..\", \"Output\", \"Financial_Data_Summary.txt\")"
   ]
  },
  {
   "cell_type": "code",
   "execution_count": 17,
   "metadata": {},
   "outputs": [],
   "source": [
    "# Open the file using \"write\" mode. Specify the variable to hold the contents\n",
    "with open(output_path, 'w') as text_file:\n",
    "\n",
    "    # Write document\n",
    "    print(\"Financial Analysis\", file=text_file)\n",
    "    print(\"                  \", file=text_file)\n",
    "    print(\"-------------------------------\", file=text_file)\n",
    "    print(\"                  \", file=text_file)\n",
    "    print(f'Total Months: {total_months}', file=text_file)\n",
    "    print(\"                  \", file=text_file)\n",
    "    print(f'Total: ${net_prof_loss}', file=text_file)\n",
    "    print(\"                  \", file=text_file)\n",
    "    print(f'Average Change: ${round(avg_change,2)}', file=text_file)\n",
    "    print(\"                  \", file=text_file)\n",
    "    print(f'Greatest Increase in Profits: {greatest_increase[\"month\"]} (${greatest_increase[\"Changes\"]})', file=text_file)\n",
    "    print(\"                  \", file=text_file)\n",
    "    print(f'Greatest Decrease in Profits: {greatest_decrease[\"month\"]} (${greatest_decrease[\"Changes\"]})', file=text_file)"
   ]
  }
 ],
 "metadata": {
  "kernelspec": {
   "display_name": "Python 3",
   "language": "python",
   "name": "python3"
  },
  "language_info": {
   "codemirror_mode": {
    "name": "ipython",
    "version": 3
   },
   "file_extension": ".py",
   "mimetype": "text/x-python",
   "name": "python",
   "nbconvert_exporter": "python",
   "pygments_lexer": "ipython3",
   "version": "3.11.5"
  }
 },
 "nbformat": 4,
 "nbformat_minor": 2
}
